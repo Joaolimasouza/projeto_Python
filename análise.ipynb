# -*- coding: utf-8 -*-
"""
Created on Mon Aug 21 19:20:08 2023

@author: mosfe
"""

palavras_0 = "Mary had a little lamb Little lamb, little lamb Mary had a little lamb. Its fleece was white a snow And everywhere that Mary wnet, Mary went \
      Everywhere that Mary went The lamb went the lamb was sure to go"
 ########################################################################################################################

partes = palavras_0.split()
     
#print(partes)
     
#type(partes)

#print(partes[0:10])

#print(len(partes))
################################################################

for key in partes:
    print(key)
    Dict_0 = {}
    Dict_0 = partes.count(key)
    
    print(Dict_0)
    
