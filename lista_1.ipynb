{
  "nbformat": 4,
  "nbformat_minor": 0,
  "metadata": {
    "colab": {
      "provenance": [],
      "authorship_tag": "ABX9TyOFhQVC2/NpF5WvvWc9QyfO",
      "include_colab_link": true
    },
    "kernelspec": {
      "name": "python3",
      "display_name": "Python 3"
    },
    "language_info": {
      "name": "python"
    }
  },
  "cells": [
    {
      "cell_type": "markdown",
      "metadata": {
        "id": "view-in-github",
        "colab_type": "text"
      },
      "source": [
        "<a href=\"https://colab.research.google.com/github/Joaolimasouza/projeto_Python/blob/main/lista_1.ipynb\" target=\"_parent\"><img src=\"https://colab.research.google.com/assets/colab-badge.svg\" alt=\"Open In Colab\"/></a>"
      ]
    },
    {
      "cell_type": "code",
      "source": [
        "idades = [12, 102, 29, 50, 20, 340, 0]\n",
        "maior_idade = 0\n",
        "\n",
        "for n in idades:\n",
        "  print(n)\n",
        "  if n > maior_idade:\n",
        "    #print(n, 'n do for')\n",
        "    #print(maior_idade, 'maior_idade')\n",
        "    maior_idade = n\n",
        "    print(maior_idade, 'final')"
      ],
      "metadata": {
        "colab": {
          "base_uri": "https://localhost:8080/"
        },
        "id": "eUTRXnjDu3Fw",
        "outputId": "9ef10673-1e90-408e-a315-8b05272425e8"
      },
      "execution_count": null,
      "outputs": [
        {
          "output_type": "stream",
          "name": "stdout",
          "text": [
            "12\n",
            "12 final\n",
            "102\n",
            "102 final\n",
            "29\n",
            "50\n",
            "20\n",
            "340\n",
            "340 final\n",
            "0\n"
          ]
        }
      ]
    },
    {
      "cell_type": "code",
      "source": [
        "lista_1A = ['joão', 'maria', 'josé', 'mario']\n",
        "nova_lista = []\n",
        "\n",
        "for nova_lista in lista_1A:\n",
        "  print(nova_lista)\n",
        "  if nova_lista == 'joão':\n",
        "    lista_1A.append('luiz')\n",
        "  print(lista_1A)"
      ],
      "metadata": {
        "colab": {
          "base_uri": "https://localhost:8080/"
        },
        "id": "ixmEC9K33EGs",
        "outputId": "37021df7-1b4e-4b80-c629-167a1abc6a15"
      },
      "execution_count": null,
      "outputs": [
        {
          "output_type": "stream",
          "name": "stdout",
          "text": [
            "joão\n",
            "['joão', 'maria', 'josé', 'mario', 'luiz']\n",
            "maria\n",
            "['joão', 'maria', 'josé', 'mario', 'luiz']\n",
            "josé\n",
            "['joão', 'maria', 'josé', 'mario', 'luiz']\n",
            "mario\n",
            "['joão', 'maria', 'josé', 'mario', 'luiz']\n",
            "luiz\n",
            "['joão', 'maria', 'josé', 'mario', 'luiz']\n"
          ]
        }
      ]
    },
    {
      "cell_type": "code",
      "execution_count": null,
      "metadata": {
        "colab": {
          "base_uri": "https://localhost:8080/"
        },
        "id": "Izj_wgAeErxC",
        "outputId": "371c8653-7d51-4a3b-ebba-09335b6d26c8"
      },
      "outputs": [
        {
          "output_type": "stream",
          "name": "stdout",
          "text": [
            "7\n",
            "['alpha', 'beta', 'teta', 'gama', 'sigma', 'delta', 'iota']\n",
            "4\n",
            "josé\n"
          ]
        }
      ],
      "source": [
        "minha_lista =[\"alpha\",\"beta\", \"teta\",\"gama\",\"sigma\",\"delta\",\"iota\"]\n",
        "lista = 'josé'\n",
        "print(len(minha_lista))\n",
        "print(minha_lista)\n",
        "print(len(lista))\n",
        "print(lista)"
      ]
    },
    {
      "cell_type": "code",
      "source": [
        "lista = [8,9]\n",
        "lista.append(10)\n",
        "lista.append(\"palavra\")\n",
        "lista"
      ],
      "metadata": {
        "colab": {
          "base_uri": "https://localhost:8080/"
        },
        "id": "hHXBdiLIPoDg",
        "outputId": "f0b6d98d-f7f7-496e-9677-5a88d3535b40"
      },
      "execution_count": null,
      "outputs": [
        {
          "output_type": "execute_result",
          "data": {
            "text/plain": [
              "[8, 9, 10, 'palavra']"
            ]
          },
          "metadata": {},
          "execution_count": 23
        }
      ]
    },
    {
      "cell_type": "code",
      "source": [
        "lista = [5.4, 'a2', 2, None]\n",
        "lista.append(True)\n",
        "lista_1 = [0, 1]\n",
        "lista.append(lista_1)\n",
        "lista = [lista_1]\n",
        "lista"
      ],
      "metadata": {
        "colab": {
          "base_uri": "https://localhost:8080/"
        },
        "id": "s3QNMvYrswl3",
        "outputId": "c33a6d52-fc5e-4d65-8d62-d2719587c7b5"
      },
      "execution_count": null,
      "outputs": [
        {
          "output_type": "execute_result",
          "data": {
            "text/plain": [
              "[[0, 1]]"
            ]
          },
          "metadata": {},
          "execution_count": 9
        }
      ]
    },
    {
      "cell_type": "code",
      "source": [
        "lista_1 == lista\n",
        "len(lista_1)"
      ],
      "metadata": {
        "colab": {
          "base_uri": "https://localhost:8080/"
        },
        "id": "Krbmyz2iuVSn",
        "outputId": "364646af-6579-44d3-ddbe-b317d8d60b8f"
      },
      "execution_count": null,
      "outputs": [
        {
          "output_type": "execute_result",
          "data": {
            "text/plain": [
              "2"
            ]
          },
          "metadata": {},
          "execution_count": 11
        }
      ]
    }
  ]
}